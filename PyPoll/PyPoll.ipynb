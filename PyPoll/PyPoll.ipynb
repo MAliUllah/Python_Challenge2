{
 "cells": [
  {
   "cell_type": "code",
   "execution_count": 1,
   "id": "b6b7520b-4bbb-4486-b4cb-f768054faa2b",
   "metadata": {},
   "outputs": [
    {
     "name": "stdout",
     "output_type": "stream",
     "text": [
      "Diana DeGette:73.812%(272892)\n",
      "Charles Casper Stockham:23.049%(85213)\n",
      "Raymon Anthony Doane: 3.139%(11606)\n",
      "--------------------------------------------\n",
      "The total of votes are 369711\n",
      "[['Diana DeGette', 272892], ['Charles Casper Stockham', 85213], ['Raymon Anthony Doane', 11606]]\n",
      "Above are the candidates who recieved votes\n",
      "Diana DeGette: 73.812% (272892) Candidate info\n",
      "Charles Casper Stockham: 23.049% (85213) Candidate info\n",
      "Raymon Anthony Doane:  3.139% (11606) Candidate info\n",
      "Diana DeGette is the winner\n"
     ]
    }
   ],
   "source": [
    "import csv \n",
    "import os \n",
    "\n",
    "file1=os.path.join(\"PyPoll\",\"Resources\",\"election_data.csv\")\n",
    "\n",
    "with open(file1, newline=\"\") as csvfile:\n",
    "    csvreader=csv.reader(csvfile, delimiter=\",\")\n",
    "    csvheader=next(csvreader)\n",
    "    candidate_roster=[candidate[2] for candidate in csvreader]\n",
    "\n",
    "\n",
    "vote_total=len(candidate_roster)\n",
    "\n",
    "candidate_votes=[[candidate,candidate_roster.count(candidate)] for candidate in set(candidate_roster)]\n",
    "\n",
    "candidates_sorted=sorted(candidate_votes, key=lambda x:x[1], reverse=True)\n",
    "\n",
    "for candidate in candidates_sorted:\n",
    "    percentage=(candidate[1]/vote_total)*100\n",
    "    print(f'{candidate[0]}:{percentage:6.3f}%({candidate[1]})') #! \n",
    "\n",
    "print(\"--------------------------------------------\")\n",
    "print(\"The total of votes are \"+ str(vote_total))\n",
    "print(candidates_sorted)\n",
    "print(\"Above are the candidates who recieved votes\")\n",
    "for candidate in candidates_sorted:\n",
    "    percentage=(candidate[1]/vote_total)*100\n",
    "    print(f'{candidate[0]}: {percentage:6.3f}% ({candidate[1]}) Candidate info')\n",
    "print(f'{candidates_sorted[0][0]} is the winner')\n",
    "\n",
    "analysis_file=os.path.join(\"PyPoll\", \"PyPoll_analysis.txt\")\n",
    "\n",
    "with open(analysis_file, \"w\") as txtfile:\n",
    "    print(\"--------------------------------------------\", file=txtfile)\n",
    "    print(\"The total of votes are \"+ str(vote_total), file=txtfile)\n",
    "    print(candidates_sorted, file=txtfile)\n",
    "    print(\"Above are the candidates who recieved votes\", file=txtfile)\n",
    "    for candidate in candidates_sorted:\n",
    "        percentage=(candidate[1]/vote_total)*100\n",
    "        print(f'{candidate[0]}: {percentage:6.3f}% ({candidate[1]}) Candidate info', file=txtfile)\n",
    "    print(f'{candidates_sorted[0][0]} is the winner', file=txtfile)"
   ]
  },
  {
   "cell_type": "code",
   "execution_count": null,
   "id": "a580b2e9-9800-4029-9288-7920515bfaca",
   "metadata": {},
   "outputs": [],
   "source": []
  }
 ],
 "metadata": {
  "kernelspec": {
   "display_name": "Python 3 (ipykernel)",
   "language": "python",
   "name": "python3"
  },
  "language_info": {
   "codemirror_mode": {
    "name": "ipython",
    "version": 3
   },
   "file_extension": ".py",
   "mimetype": "text/x-python",
   "name": "python",
   "nbconvert_exporter": "python",
   "pygments_lexer": "ipython3",
   "version": "3.11.5"
  }
 },
 "nbformat": 4,
 "nbformat_minor": 5
}
