{
 "cells": [
  {
   "cell_type": "code",
   "execution_count": 2,
   "id": "93c2c287-0d45-4a60-ab7b-1a2afbab3582",
   "metadata": {},
   "outputs": [
    {
     "name": "stdout",
     "output_type": "stream",
     "text": [
      "['PyBank Analysis', 'Total Months: 86', 'Total: 22564198', 'Average Change: -8311.11', 'Greatest Increase in Profits: Aug-16 $1862002', 'Greatest Decrease in Profits: Feb-14 $-1825558']\n"
     ]
    }
   ],
   "source": [
    "import csv \n",
    "import os  \n",
    "\n",
    "file1=os.path.join(\"PyBank\",\"Resources\",\"budget_data.csv\")\n",
    "\n",
    "budget_data=[]\n",
    "\n",
    "with open(file1) as csvfile:\n",
    "    reader=csv.DictReader(csvfile)\n",
    "\n",
    "    for row in reader:\n",
    "        budget_data.append({\"month\": row[\"Date\"], \"amount\": int(row[\"Profit/Losses\"]),\"change\": 0})\n",
    "\n",
    "total_months=len(budget_data)\n",
    "\n",
    "prev_amount=budget_data[0][\"amount\"]\n",
    "for i in range(total_months):\n",
    "    budget_data[i][\"change\"]=budget_data[i][\"amount\"] - prev_amount\n",
    "    prev_amount=budget_data[i][\"amount\"]\n",
    "\n",
    "total_amount=sum(row[\"amount\"] for row in budget_data)\n",
    "\n",
    "total_row_change=sum(row[\"change\"] for row in budget_data)\n",
    "average=round(total_row_change/(total_months-1),2)\n",
    "\n",
    "great_increase=max(budget_data, key=lambda x:x[\"change\"])\n",
    "\n",
    "great_decrease=min(budget_data,key=lambda x:x[\"change\"])\n",
    "\n",
    "Final_Report=[(\"PyBank Analysis\"),\n",
    "(f'Total Months: {total_months}'),\n",
    "(f'Total: {total_amount}'),\n",
    "(f'Average Change: {average}'),\n",
    "(f'Greatest Increase in Profits: {great_increase[\"month\"]} ${great_increase[\"change\"]}'),\n",
    "(f'Greatest Decrease in Profits: {great_decrease[\"month\"]} ${great_decrease[\"change\"]}')]\n",
    "print(Final_Report)\n",
    "\n",
    "\n",
    "file2=os.path.join(\"PyBank\",\"Resources\",\"PyBank_analysis.txt\")\n",
    "\n",
    "with open(file2,\"w\") as textfile:\n",
    "    print(\"PyBank Analysis\",file=textfile)\n",
    "    print(\"----------------------\", file=textfile)\n",
    "    print(f'Total Months: {total_months}',file=textfile)\n",
    "    print(f'Total: {total_amount}',file=textfile)\n",
    "    print(f'Average Change: {average}',file=textfile)\n",
    "    print(f'Greatest Increase in Profits: {great_increase[\"month\"]} ${great_increase[\"change\"]}', file=textfile)\n",
    "    print(f'Greatest Decrease in Profits: {great_decrease[\"month\"]} ${great_decrease[\"change\"]}', file=textfile)\n",
    "\n"
   ]
  },
  {
   "cell_type": "code",
   "execution_count": null,
   "id": "5314d271-4afa-41ed-bdd3-e6d7ed93e3d9",
   "metadata": {},
   "outputs": [],
   "source": []
  }
 ],
 "metadata": {
  "kernelspec": {
   "display_name": "Python 3 (ipykernel)",
   "language": "python",
   "name": "python3"
  },
  "language_info": {
   "codemirror_mode": {
    "name": "ipython",
    "version": 3
   },
   "file_extension": ".py",
   "mimetype": "text/x-python",
   "name": "python",
   "nbconvert_exporter": "python",
   "pygments_lexer": "ipython3",
   "version": "3.11.5"
  }
 },
 "nbformat": 4,
 "nbformat_minor": 5
}
